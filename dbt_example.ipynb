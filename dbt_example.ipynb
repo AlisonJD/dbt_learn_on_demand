{
  "nbformat": 4,
  "nbformat_minor": 0,
  "metadata": {
    "colab": {
      "name": "dbt_example.ipynb",
      "provenance": [],
      "collapsed_sections": [
        "Yu1_CvCzDNQP",
        "mVX4jGlWHt8G",
        "eBIDO0EGNWFa",
        "nJioAzqCXrVc",
        "Htz19n4IX4XA",
        "052lG9yaZiqx",
        "ikM1lMrhZnSU",
        "26TjXMo2aFBk",
        "K4kGo8kqh-3s",
        "LH4JzAqzc1uA",
        "KkgUM2vHuYvt"
      ]
    },
    "kernelspec": {
      "name": "python3",
      "display_name": "Python 3"
    },
    "language_info": {
      "name": "python"
    }
  },
  "cells": [
    {
      "cell_type": "markdown",
      "metadata": {
        "id": "Yu1_CvCzDNQP"
      },
      "source": [
        "# dbt learn on demand example"
      ]
    },
    {
      "cell_type": "code",
      "metadata": {
        "colab": {
          "base_uri": "https://localhost:8080/"
        },
        "id": "9HhcQmC3DLyu",
        "outputId": "4bef0dbf-405c-4a2f-baa0-ba997068e696"
      },
      "source": [
        "#@title Mount your Google Drive to save and use local files\n",
        "from google.colab import drive\n",
        "drive.mount('/content/gdrive', force_remount=False)\n",
        "\n",
        "% cd \"/content/gdrive/My Drive/Colab Notebooks/dbt\""
      ],
      "execution_count": 2,
      "outputs": [
        {
          "output_type": "stream",
          "text": [
            "Mounted at /content/gdrive\n",
            "/content/gdrive/My Drive/Colab Notebooks/dbt\n"
          ],
          "name": "stdout"
        }
      ]
    },
    {
      "cell_type": "code",
      "metadata": {
        "id": "SJ-y6DUfDQTL",
        "colab": {
          "base_uri": "https://localhost:8080/"
        },
        "outputId": "b4deeba6-7761-4ecc-bb20-4c4a9c0f195a"
      },
      "source": [
        "#@title Install Tinybird CLI and your token\n",
        "!pip install tinybird-cli -q -U\n",
        "\n",
        "import os\n",
        "\n",
        "if not os.path.isfile('.tinyb'):\n",
        "  !tb auth\n",
        "\n",
        "!tb init"
      ],
      "execution_count": 3,
      "outputs": [
        {
          "output_type": "stream",
          "text": [
            "\u001b[?25l\r\u001b[K     |████▋                           | 10 kB 21.3 MB/s eta 0:00:01\r\u001b[K     |█████████▏                      | 20 kB 27.2 MB/s eta 0:00:01\r\u001b[K     |█████████████▉                  | 30 kB 23.2 MB/s eta 0:00:01\r\u001b[K     |██████████████████▍             | 40 kB 17.8 MB/s eta 0:00:01\r\u001b[K     |███████████████████████         | 51 kB 8.0 MB/s eta 0:00:01\r\u001b[K     |███████████████████████████▋    | 61 kB 7.1 MB/s eta 0:00:01\r\u001b[K     |████████████████████████████████| 71 kB 4.4 MB/s \n",
            "\u001b[K     |████████████████████████████████| 54 kB 2.5 MB/s \n",
            "\u001b[K     |████████████████████████████████| 61 kB 6.5 MB/s \n",
            "\u001b[K     |████████████████████████████████| 46 kB 3.5 MB/s \n",
            "\u001b[K     |████████████████████████████████| 81 kB 4.7 MB/s \n",
            "\u001b[K     |████████████████████████████████| 86 kB 3.4 MB/s \n",
            "\u001b[?25h  Building wheel for tabulate (setup.py) ... \u001b[?25l\u001b[?25hdone\n",
            "\u001b[31mERROR: pip's dependency resolver does not currently take into account all the packages that are installed. This behaviour is the source of the following dependency conflicts.\n",
            "google-colab 1.0.0 requires requests~=2.23.0, but you have requests 2.25.1 which is incompatible.\n",
            "datascience 0.10.6 requires folium==0.2.1, but you have folium 0.8.3 which is incompatible.\u001b[0m\n",
            "\u001b[0m** - /datasources already exists, skipping\u001b[0m\n",
            "\u001b[0m** - /datasources/fixtures already exists, skipping\u001b[0m\n",
            "\u001b[0m** - /endpoints already exists, skipping\u001b[0m\n",
            "\u001b[0m** - /explorations already exists, skipping\u001b[0m\n",
            "\u001b[0m** - /pipes already exists, skipping\u001b[0m\n"
          ],
          "name": "stdout"
        }
      ]
    },
    {
      "cell_type": "code",
      "metadata": {
        "id": "U4Nuze5zOt0k"
      },
      "source": [
        "#@title Helper function\n",
        "def write_text_to_file(filename, text):\n",
        "  with open(filename, 'w') as f: f.write(text)"
      ],
      "execution_count": 4,
      "outputs": []
    },
    {
      "cell_type": "markdown",
      "metadata": {
        "id": "mVX4jGlWHt8G"
      },
      "source": [
        "# Training Data"
      ]
    },
    {
      "cell_type": "code",
      "metadata": {
        "colab": {
          "base_uri": "https://localhost:8080/"
        },
        "id": "5Gg_dwirGXP2",
        "outputId": "5be57394-1c90-4603-8c15-307b9a219c2f"
      },
      "source": [
        "!tb datasource generate 'http://dbt-tutorial-public.s3-us-west-2.amazonaws.com/jaffle_shop_orders.csv'"
      ],
      "execution_count": 48,
      "outputs": [
        {
          "output_type": "stream",
          "text": [
            "\u001b[92m** Generated datasources/jaffle_shop_orders.datasource\n",
            "** => Create it on the server running: $ tb push datasources/jaffle_shop_orders.datasource\n",
            "** => Append data using: $ tb datasource append jaffle_shop_orders http://dbt-tutorial-public.s3-us-west-2.amazonaws.com/jaffle_shop_orders.csv`\n",
            "\u001b[0m\n"
          ],
          "name": "stdout"
        }
      ]
    },
    {
      "cell_type": "code",
      "metadata": {
        "colab": {
          "base_uri": "https://localhost:8080/"
        },
        "id": "WawpYsLiJRpK",
        "outputId": "1a5c94d5-5a7f-48d4-9c56-fb6706c3ad91"
      },
      "source": [
        "!cat datasources/jaffle_shop_orders.datasource"
      ],
      "execution_count": 49,
      "outputs": [
        {
          "output_type": "stream",
          "text": [
            "DESCRIPTION generated from http://dbt-tutorial-public.s3-us-west-2.amazonaws.com/jaffle_shop_orders.csv\n",
            "\n",
            "SCHEMA >\n",
            "    `_id` Int16,\n",
            "    `user_id` Int16,\n",
            "    `order_date` Date,\n",
            "    `status` String"
          ],
          "name": "stdout"
        }
      ]
    },
    {
      "cell_type": "code",
      "metadata": {
        "colab": {
          "base_uri": "https://localhost:8080/"
        },
        "id": "whB6Td1cJNP5",
        "outputId": "b33e0341-6cf6-40e5-858e-05deac1f1458"
      },
      "source": [
        "!tb push datasources/jaffle_shop_orders.datasource\n",
        "!tb datasource append jaffle_shop_orders http://dbt-tutorial-public.s3-us-west-2.amazonaws.com/jaffle_shop_orders.csv"
      ],
      "execution_count": 50,
      "outputs": [
        {
          "output_type": "stream",
          "text": [
            "\u001b[0m** Processing datasources/jaffle_shop_orders.datasource\u001b[0m\n",
            "\u001b[0m** Building dependencies\u001b[0m\n",
            "\u001b[0m** Running jaffle_shop_orders \u001b[0m\n",
            "\u001b[92m** 'jaffle_shop_orders' created\u001b[0m\n",
            "\u001b[0m** Not pushing fixtures\u001b[0m\n",
            "\u001b[0m** 🥚 starting import process\u001b[0m\n",
            "\u001b[91m\n",
            "** There was an error with file contents: 1 row in quarantine and 1 invalid line.\u001b[0m\n"
          ],
          "name": "stdout"
        }
      ]
    },
    {
      "cell_type": "code",
      "metadata": {
        "colab": {
          "base_uri": "https://localhost:8080/"
        },
        "id": "QSnT725SGetw",
        "outputId": "2eed45b5-b47a-485c-ff96-e542d6124291"
      },
      "source": [
        "!tb datasource generate 'http://dbt-tutorial-public.s3-us-west-2.amazonaws.com/jaffle_shop_customers.csv'"
      ],
      "execution_count": 51,
      "outputs": [
        {
          "output_type": "stream",
          "text": [
            "\u001b[92m** Generated datasources/jaffle_shop_customers.datasource\n",
            "** => Create it on the server running: $ tb push datasources/jaffle_shop_customers.datasource\n",
            "** => Append data using: $ tb datasource append jaffle_shop_customers http://dbt-tutorial-public.s3-us-west-2.amazonaws.com/jaffle_shop_customers.csv`\n",
            "\u001b[0m\n"
          ],
          "name": "stdout"
        }
      ]
    },
    {
      "cell_type": "code",
      "metadata": {
        "colab": {
          "base_uri": "https://localhost:8080/"
        },
        "id": "QBmbSkObJawq",
        "outputId": "0ed2ee66-f4ff-40f5-d266-79a92798a87a"
      },
      "source": [
        "!cat datasources/jaffle_shop_customers.datasource"
      ],
      "execution_count": 52,
      "outputs": [
        {
          "output_type": "stream",
          "text": [
            "DESCRIPTION generated from http://dbt-tutorial-public.s3-us-west-2.amazonaws.com/jaffle_shop_customers.csv\n",
            "\n",
            "SCHEMA >\n",
            "    `_id` Int16,\n",
            "    `first_name` String,\n",
            "    `last_name` String"
          ],
          "name": "stdout"
        }
      ]
    },
    {
      "cell_type": "code",
      "metadata": {
        "colab": {
          "base_uri": "https://localhost:8080/"
        },
        "id": "9GGHLW2VJX5M",
        "outputId": "9cda92b1-f73e-4712-cd4f-f94a67e39914"
      },
      "source": [
        "!tb push datasources/jaffle_shop_customers.datasource\n",
        "!tb datasource append jaffle_shop_customers http://dbt-tutorial-public.s3-us-west-2.amazonaws.com/jaffle_shop_customers.csv"
      ],
      "execution_count": 53,
      "outputs": [
        {
          "output_type": "stream",
          "text": [
            "\u001b[0m** Processing datasources/jaffle_shop_customers.datasource\u001b[0m\n",
            "\u001b[0m** Building dependencies\u001b[0m\n",
            "\u001b[0m** Running jaffle_shop_customers \u001b[0m\n",
            "\u001b[92m** 'jaffle_shop_customers' created\u001b[0m\n",
            "\u001b[0m** Not pushing fixtures\u001b[0m\n",
            "\u001b[0m** 🥚 starting import process\u001b[0m\n",
            "\u001b[91m\n",
            "** There was an error with file contents: 1 row in quarantine and 1 invalid line.\u001b[0m\n"
          ],
          "name": "stdout"
        }
      ]
    },
    {
      "cell_type": "code",
      "metadata": {
        "colab": {
          "base_uri": "https://localhost:8080/"
        },
        "id": "OzFxn4MsG7XV",
        "outputId": "6a587418-e95c-4d23-95ca-44ea45663111"
      },
      "source": [
        "!tb datasource generate 'http://dbt-tutorial-public.s3-us-west-2.amazonaws.com/stripe_payments.csv'"
      ],
      "execution_count": 54,
      "outputs": [
        {
          "output_type": "stream",
          "text": [
            "\u001b[92m** Generated datasources/stripe_payments.datasource\n",
            "** => Create it on the server running: $ tb push datasources/stripe_payments.datasource\n",
            "** => Append data using: $ tb datasource append stripe_payments http://dbt-tutorial-public.s3-us-west-2.amazonaws.com/stripe_payments.csv`\n",
            "\u001b[0m\n"
          ],
          "name": "stdout"
        }
      ]
    },
    {
      "cell_type": "code",
      "metadata": {
        "colab": {
          "base_uri": "https://localhost:8080/"
        },
        "id": "wozfuOthIV5R",
        "outputId": "c38cc47b-8774-49bf-9930-8c94affa7edc"
      },
      "source": [
        "!cat datasources/stripe_payments.datasource"
      ],
      "execution_count": 55,
      "outputs": [
        {
          "output_type": "stream",
          "text": [
            "DESCRIPTION generated from http://dbt-tutorial-public.s3-us-west-2.amazonaws.com/stripe_payments.csv\n",
            "\n",
            "SCHEMA >\n",
            "    `_id` Int16,\n",
            "    `orderid` Int16,\n",
            "    `paymentmethod` String,\n",
            "    `status` String,\n",
            "    `amount` Int32,\n",
            "    `created` Date"
          ],
          "name": "stdout"
        }
      ]
    },
    {
      "cell_type": "code",
      "metadata": {
        "colab": {
          "base_uri": "https://localhost:8080/"
        },
        "id": "ORTM7WHKHBGB",
        "outputId": "e1c8bc42-ece8-4341-ad70-053d237ea705"
      },
      "source": [
        "!tb push datasources/stripe_payments.datasource\n",
        "!tb datasource append stripe_payments http://dbt-tutorial-public.s3-us-west-2.amazonaws.com/stripe_payments.csv"
      ],
      "execution_count": 56,
      "outputs": [
        {
          "output_type": "stream",
          "text": [
            "\u001b[0m** Processing datasources/stripe_payments.datasource\u001b[0m\n",
            "\u001b[0m** Building dependencies\u001b[0m\n",
            "\u001b[0m** Running stripe_payments \u001b[0m\n",
            "\u001b[92m** 'stripe_payments' created\u001b[0m\n",
            "\u001b[0m** Not pushing fixtures\u001b[0m\n",
            "\u001b[0m** 🥚 starting import process\u001b[0m\n",
            "\u001b[91m\n",
            "** There was an error with file contents: 1 row in quarantine and 1 invalid line.\u001b[0m\n"
          ],
          "name": "stdout"
        }
      ]
    },
    {
      "cell_type": "markdown",
      "metadata": {
        "id": "eBIDO0EGNWFa"
      },
      "source": [
        "# Staging Pipes with Tests"
      ]
    },
    {
      "cell_type": "markdown",
      "metadata": {
        "id": "nJioAzqCXrVc"
      },
      "source": [
        "### Customers"
      ]
    },
    {
      "cell_type": "code",
      "metadata": {
        "id": "bLkA2TVtNhDs"
      },
      "source": [
        "filename = 'pipes/stg_customers.pipe'\n",
        "text = '''\n",
        "DESCRIPTION staging_customers\n",
        "NODE staging_customers\n",
        "SQL >\n",
        "  SELECT\n",
        "    _id as customer_id,\n",
        "    first_name,\n",
        "    last_name \n",
        "\n",
        "  FROM jaffle_shop_customers\n",
        "'''\n",
        "\n",
        "write_text_to_file(filename, text)"
      ],
      "execution_count": 64,
      "outputs": []
    },
    {
      "cell_type": "code",
      "metadata": {
        "colab": {
          "base_uri": "https://localhost:8080/"
        },
        "id": "-2MtIyueOy3C",
        "outputId": "9b078ffc-80da-4ee2-d090-7b51231cefb1"
      },
      "source": [
        "!tb push 'pipes/stg_customers.pipe'"
      ],
      "execution_count": 65,
      "outputs": [
        {
          "output_type": "stream",
          "text": [
            "\u001b[0m** Processing pipes/stg_customers.pipe\u001b[0m\n",
            "\u001b[0m** Building dependencies\u001b[0m\n",
            "\u001b[0m** Running stg_customers \u001b[0m\n",
            "\u001b[92m** => Test endpoint at https://api.tinybird.co/v0/pipes/stg_customers.json\u001b[0m\n",
            "\u001b[92m** 'stg_customers' created\u001b[0m\n",
            "\u001b[0m** Not pushing fixtures\u001b[0m\n"
          ],
          "name": "stdout"
        }
      ]
    },
    {
      "cell_type": "markdown",
      "metadata": {
        "id": "PjMrcwPFWTZI"
      },
      "source": [
        "#### Customer Tests"
      ]
    },
    {
      "cell_type": "markdown",
      "metadata": {
        "id": "5HSvA7_2WhxU"
      },
      "source": [
        "#### Not Null"
      ]
    },
    {
      "cell_type": "markdown",
      "metadata": {
        "id": "VDROjstJShtu"
      },
      "source": [
        "Dowloading the schema for `jaffle_shop_customers`:\n",
        "```\n",
        "SCHEMA >\n",
        "    `_id` Int16,\n",
        "    `first_name` String,\n",
        "    `last_name` String\n",
        "\n",
        "ENGINE \"MergeTree\"\n",
        "ENGINE_PARTITION_KEY \"substring(toString(_id), 1, 1)\"\n",
        "ENGINE_SORTING_KEY \"_id, cityHash64(last_name)\"\n",
        "ENGINE_SAMPLING_KEY \"cityHash64(last_name)\"\n",
        "````\n",
        "Reveals that '_id' is part of the ENGINE_SORTING_KEY, which by definition is NOT NULL."
      ]
    },
    {
      "cell_type": "markdown",
      "metadata": {
        "id": "bkQJ1KnCWlsO"
      },
      "source": [
        "#### Unique"
      ]
    },
    {
      "cell_type": "code",
      "metadata": {
        "id": "dkSugc4FWXry"
      },
      "source": [
        "filename = 'pipes/chk_unique_customers.pipe'\n",
        "text = '''\n",
        "DESCRIPTION checking uniqueness of _id\n",
        "NODE check_unique_id\n",
        "SQL >\n",
        "  SELECT\n",
        "    count(_id)-uniq(_id)\n",
        "  FROM jaffle_shop_customers\n",
        "'''\n",
        "\n",
        "write_text_to_file(filename, text)\n",
        "\n",
        "!tb push 'pipes/chk_unique_customers.pipe'"
      ],
      "execution_count": 74,
      "outputs": []
    },
    {
      "cell_type": "markdown",
      "metadata": {
        "id": "Htz19n4IX4XA"
      },
      "source": [
        "### Orders"
      ]
    },
    {
      "cell_type": "code",
      "metadata": {
        "colab": {
          "base_uri": "https://localhost:8080/"
        },
        "id": "Qtk5jWj8X53Y",
        "outputId": "53709256-d935-43ee-841e-278e4157c2b4"
      },
      "source": [
        "filename = 'pipes/stg_orders.pipe'\n",
        "text = '''\n",
        "DESCRIPTION staging orders\n",
        "NODE staging_orders\n",
        "SQL >\n",
        "    SELECT \n",
        "        _id as order_id,\n",
        "        user_id as customer_id,\n",
        "        order_date,\n",
        "        status\n",
        "    FROM jaffle_shop_orders\n",
        "'''\n",
        "\n",
        "write_text_to_file(filename, text)\n",
        "\n",
        "!tb push 'pipes/stg_orders.pipe'"
      ],
      "execution_count": 91,
      "outputs": [
        {
          "output_type": "stream",
          "text": [
            "\u001b[0m** Processing pipes/stg_orders.pipe\u001b[0m\n",
            "\u001b[0m** Building dependencies\u001b[0m\n",
            "\u001b[93m** Warning: stg_orders already exists, skipping\u001b[0m\n",
            "\u001b[0m** Not pushing fixtures\u001b[0m\n"
          ],
          "name": "stdout"
        }
      ]
    },
    {
      "cell_type": "markdown",
      "metadata": {
        "id": "SqlETCH3YiKV"
      },
      "source": [
        "#### Orders Tests"
      ]
    },
    {
      "cell_type": "markdown",
      "metadata": {
        "id": "052lG9yaZiqx"
      },
      "source": [
        "#### Not Null"
      ]
    },
    {
      "cell_type": "markdown",
      "metadata": {
        "id": "epfLoLy1ZO8y"
      },
      "source": [
        "Dowloading the schema for jaffle_shop_orders: \n",
        "\n",
        "```\n",
        "SCHEMA >\n",
        "    `_id` Int16,\n",
        "    `user_id` Int16,\n",
        "    `order_date` Date,\n",
        "    `status` String\n",
        "\n",
        "ENGINE \"MergeTree\"\n",
        "ENGINE_PARTITION_KEY \"toYear(order_date)\"\n",
        "ENGINE_SORTING_KEY \"order_date, cityHash64(status)\"\n",
        "ENGINE_SAMPLING_KEY \"cityHash64(status)\"\n",
        "```\n",
        "Reveals that '_id' is part of the ENGINE_SORTING_KEY, which by definition is NOT NULL."
      ]
    },
    {
      "cell_type": "markdown",
      "metadata": {
        "id": "ikM1lMrhZnSU"
      },
      "source": [
        "#### Unique"
      ]
    },
    {
      "cell_type": "code",
      "metadata": {
        "colab": {
          "base_uri": "https://localhost:8080/"
        },
        "id": "x5gYckKPYZM2",
        "outputId": "06a1904d-84d0-4f5c-e191-33af7ad78cce"
      },
      "source": [
        "filename = 'pipes/chk_unique_orders.pipe'\n",
        "text = '''\n",
        "DESCRIPTION checking uniqueness of _id\n",
        "NODE check_unique_id\n",
        "SQL >\n",
        "  SELECT\n",
        "    count(_id)-uniq(_id)\n",
        "  FROM jaffle_shop_orders\n",
        "'''\n",
        "\n",
        "write_text_to_file(filename, text)\n",
        "\n",
        "!tb push 'pipes/chk_unique_orders.pipe'"
      ],
      "execution_count": 76,
      "outputs": [
        {
          "output_type": "stream",
          "text": [
            "\u001b[0m** Processing pipes/chk_unique_orders.pipe\u001b[0m\n",
            "\u001b[0m** Building dependencies\u001b[0m\n",
            "\u001b[0m** Running chk_unique_orders \u001b[0m\n",
            "\u001b[92m** => Test endpoint at https://api.tinybird.co/v0/pipes/chk_unique_orders.json\u001b[0m\n",
            "\u001b[92m** 'chk_unique_orders' created\u001b[0m\n",
            "\u001b[0m** Not pushing fixtures\u001b[0m\n"
          ],
          "name": "stdout"
        }
      ]
    },
    {
      "cell_type": "markdown",
      "metadata": {
        "id": "26TjXMo2aFBk"
      },
      "source": [
        "#### Accepted Values"
      ]
    },
    {
      "cell_type": "code",
      "metadata": {
        "colab": {
          "base_uri": "https://localhost:8080/"
        },
        "id": "PC_p_OlNaHJP",
        "outputId": "ae8ca650-6678-45a7-e081-c2301632cc51"
      },
      "source": [
        "filename = 'pipes/accepted_values_orders.pipe'\n",
        "text = '''\n",
        "DESCRIPTION accepted values orders\n",
        "NODE check_accepted_values\n",
        "SQL >\n",
        "  SELECT\n",
        "    DISTINCT status\n",
        "  FROM jaffle_shop_orders\n",
        "'''\n",
        "\n",
        "write_text_to_file(filename, text)\n",
        "\n",
        "!tb push 'pipes/accepted_values_orders.pipe'"
      ],
      "execution_count": 77,
      "outputs": [
        {
          "output_type": "stream",
          "text": [
            "\u001b[0m** Processing pipes/accepted_values_orders.pipe\u001b[0m\n",
            "\u001b[0m** Building dependencies\u001b[0m\n",
            "\u001b[0m** Running accepted_values_orders \u001b[0m\n",
            "\u001b[92m** => Test endpoint at https://api.tinybird.co/v0/pipes/accepted_values_orders.json\u001b[0m\n",
            "\u001b[92m** 'accepted_values_orders' created\u001b[0m\n",
            "\u001b[0m** Not pushing fixtures\u001b[0m\n"
          ],
          "name": "stdout"
        }
      ]
    },
    {
      "cell_type": "markdown",
      "metadata": {
        "id": "K4kGo8kqh-3s"
      },
      "source": [
        "### Payments"
      ]
    },
    {
      "cell_type": "code",
      "metadata": {
        "colab": {
          "base_uri": "https://localhost:8080/"
        },
        "id": "aJ0bqwvoc1Vw",
        "outputId": "83a77d9b-5f1a-48d0-99d8-b14ca51cea0a"
      },
      "source": [
        "filename = 'pipes/stg_payments.pipe'\n",
        "text = '''\n",
        "DESCRIPTION staging payments\n",
        "NODE staging_payments\n",
        "SQL >\n",
        "  SELECT\n",
        "    _id as payment_id,\n",
        "    orderid as order_id,\n",
        "    paymentmethod as payment_method,\n",
        "    status,\n",
        "\n",
        "    -- amount is stored in cents, convert it to dollars\n",
        "    amount / 100 as amount,\n",
        "    created as created_at\n",
        "\n",
        "  FROM stripe_payments\n",
        "'''\n",
        "\n",
        "write_text_to_file(filename, text)\n",
        "\n",
        "!tb push 'pipes/stg_payments.pipe'"
      ],
      "execution_count": 78,
      "outputs": [
        {
          "output_type": "stream",
          "text": [
            "\u001b[0m** Processing pipes/stg_payments.pipe\u001b[0m\n",
            "\u001b[0m** Building dependencies\u001b[0m\n",
            "\u001b[0m** Running stg_payments \u001b[0m\n",
            "\u001b[92m** => Test endpoint at https://api.tinybird.co/v0/pipes/stg_payments.json\u001b[0m\n",
            "\u001b[92m** 'stg_payments' created\u001b[0m\n",
            "\u001b[0m** Not pushing fixtures\u001b[0m\n"
          ],
          "name": "stdout"
        }
      ]
    },
    {
      "cell_type": "markdown",
      "metadata": {
        "id": "LH4JzAqzc1uA"
      },
      "source": [
        "# Fact Table for Orders"
      ]
    },
    {
      "cell_type": "code",
      "metadata": {
        "colab": {
          "base_uri": "https://localhost:8080/"
        },
        "id": "qftwx95xccLH",
        "outputId": "0759c853-d096-4622-fdb1-58ec5e25be29"
      },
      "source": [
        "filename = 'pipes/fct_orders.pipe'\n",
        "text = '''\n",
        "DESCRIPTION >\n",
        "\tfact table orders\n",
        "\n",
        "NODE order_payments\n",
        "SQL >\n",
        "\n",
        "    SELECT\n",
        "      order_id,\n",
        "      SUM(case when status = 'success' then amount end) AS amount\n",
        "    FROM stg_payments\n",
        "    GROUP BY order_id\n",
        "\n",
        "NODE final_fct_orders\n",
        "SQL >\n",
        "\n",
        "    SELECT\n",
        "      order_id,\n",
        "      customer_id,\n",
        "      order_date,\n",
        "      amount\n",
        "    FROM stg_orders\n",
        "    LEFT JOIN order_payments\n",
        "    USING order_id\n",
        "'''\n",
        "\n",
        "write_text_to_file(filename, text)\n",
        "\n",
        "!tb push 'pipes/fct_orders.pipe'"
      ],
      "execution_count": 94,
      "outputs": [
        {
          "output_type": "stream",
          "text": [
            "\u001b[0m** Processing pipes/fct_orders.pipe\u001b[0m\n",
            "\u001b[0m** Building dependencies\u001b[0m\n",
            "\u001b[0m** Running fct_orders \u001b[0m\n",
            "\u001b[92m** => Test endpoint at https://api.tinybird.co/v0/pipes/fct_orders.json\u001b[0m\n",
            "\u001b[92m** 'fct_orders' created\u001b[0m\n",
            "\u001b[0m** Not pushing fixtures\u001b[0m\n"
          ],
          "name": "stdout"
        }
      ]
    },
    {
      "cell_type": "markdown",
      "metadata": {
        "id": "KkgUM2vHuYvt"
      },
      "source": [
        "# Dimension Table for Customers"
      ]
    },
    {
      "cell_type": "code",
      "metadata": {
        "colab": {
          "base_uri": "https://localhost:8080/"
        },
        "id": "KCUZ-gMdufMM",
        "outputId": "5fb6b61a-0f45-45ec-9c7e-e060d2cec0e1"
      },
      "source": [
        "filename = 'pipes/dim_customers.pipe'\n",
        "text = '''\n",
        "DESCRIPTION dimensions table customers\n",
        "NODE orders_by_customer\n",
        "SQL >\n",
        "    SELECT \n",
        "            customer_id,\n",
        "            min(order_date) as first_order_date,\n",
        "            max(order_date) as most_recent_order_date,\n",
        "            count(order_id) as number_of_orders,\n",
        "            sum(amount) as lifetime_value\n",
        "     FROM fct_orders\n",
        "     GROUP BY customer_id\n",
        "\n",
        "NODE dim_customers_node\n",
        "SQL >\n",
        "    SELECT \n",
        "            customer_id,\n",
        "            first_name,\n",
        "            last_name,\n",
        "            first_order_date,\n",
        "            most_recent_order_date,\n",
        "            number_of_orders,\n",
        "            lifetime_value\n",
        "    FROM stg_customers\n",
        "    LEFT JOIN orders_by_customer \n",
        "    USING customer_id\n",
        "    ORDER BY customer_id\n",
        "'''\n",
        "\n",
        "write_text_to_file(filename, text)\n",
        "\n",
        "!tb push 'pipes/dim_customers.pipe'"
      ],
      "execution_count": 8,
      "outputs": [
        {
          "output_type": "stream",
          "text": [
            "\u001b[0m** Processing pipes/dim_customers.pipe\u001b[0m\n",
            "\u001b[0m** Building dependencies\u001b[0m\n",
            "\u001b[0m** Running dim_customers \u001b[0m\n",
            "\u001b[92m** => Test endpoint at https://api.tinybird.co/v0/pipes/dim_customers.json\u001b[0m\n",
            "\u001b[92m** 'dim_customers' created\u001b[0m\n",
            "\u001b[0m** Not pushing fixtures\u001b[0m\n"
          ],
          "name": "stdout"
        }
      ]
    }
  ]
}